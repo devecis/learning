{
 "cells": [
  {
   "cell_type": "code",
   "execution_count": 1,
   "metadata": {},
   "outputs": [],
   "source": [
    "import json\n",
    "content = {'output': {'ansible_facts': {'fan_info': [{'status': 'Ok', 'model': None, 'hw_ver': '0.0', 'name': 'ChassisFan1'}, {'status': 'None', 'model': None, 'hw_ver': '0.0', 'name': 'ChassisFan2'}, {'status': 'Ok', 'model': '--', 'hw_ver': '--', 'name': 'Fan_in_PS1'}, {'status': 'Failure', 'model': '--', 'hw_ver': '--', 'name': 'Fan_in_PS2'}], 'ansible_net_model': 'NX-OSv Chassis', 'ansible_net_interfaces': {'Ethernet2/13': {'macaddress': '2cc2.604f.feb2', 'state': 'down', 'mode': 'routed', 'duplex': 'auto', 'speed': 'auto-speed', 'type': 'Ethernet', 'bandwidth': 1000000, 'mtu': '1500'}, 'Ethernet2/12': {'macaddress': '2cc2.604f.feb2', 'state': 'down', 'mode': 'routed', 'duplex': 'auto', 'speed': 'auto-speed', 'type': 'Ethernet', 'bandwidth': 1000000, 'mtu': '1500'}, 'Ethernet2/11': {'macaddress': '2cc2.604f.feb2', 'state': 'down', 'mode': 'routed', 'duplex': 'auto', 'speed': 'auto-speed', 'type': 'Ethernet', 'bandwidth': 1000000, 'mtu': '1500'}, 'Ethernet2/10': {'macaddress': '2cc2.604f.feb2', 'state': 'down', 'mode': 'routed', 'duplex': 'auto', 'speed': 'auto-speed', 'type': 'Ethernet', 'bandwidth': 1000000, 'mtu': '1500'}, 'Ethernet2/15': {'macaddress': '2cc2.604f.feb2', 'state': 'down', 'mode': 'routed', 'duplex': 'auto', 'speed': 'auto-speed', 'type': 'Ethernet', 'bandwidth': 1000000, 'mtu': '1500'}, 'Ethernet2/14': {'macaddress': '2cc2.604f.feb2', 'state': 'down', 'mode': 'routed', 'duplex': 'auto', 'speed': 'auto-speed', 'type': 'Ethernet', 'bandwidth': 1000000, 'mtu': '1500'}, 'Ethernet2/1': {'macaddress': '2cc2.604f.feb2', 'state': 'up', 'mode': 'routed', 'duplex': 'full', 'speed': '1000 Mb/s', 'type': 'Ethernet', 'bandwidth': 1000000, 'mtu': '1500'}}, 'ansible_net_all_ipv4_addresses': ['10.0.0.71'], 'ansible_net_hostname': 'nxos-spine1', 'hostname': 'nxos-spine1', 'ansible_net_serialnum': 'TM6017D760B', 'interfaces_list': ['mgmt0', 'Ethernet2/1', 'Ethernet2/2', 'Ethernet2/3', 'Ethernet2/4', 'Ethernet2/5', 'Ethernet2/6', 'Ethernet2/7', 'Ethernet2/8', 'Ethernet2/9', 'Ethernet2/10', 'Ethernet2/11', 'Ethernet2/12', 'Ethernet2/13', 'Ethernet2/14', 'Ethernet2/15'], 'ansible_net_gather_subset': ['hardware', 'default', 'interfaces', 'legacy'], 'power_supply_info': [{'status': 'Ok', 'model': 'DS-CAC-845W', 'number': 1}, {'status': 'Absent', 'model': '------------', 'number': 2}], 'platform': 'NX-OSv Chassis', 'ansible_net_version': '7.3(1)D1(1) [build 7.3(1)D1(0.10)]', 'module': [{'status': 'active *', 'model': 'N7K-SUP1', 'type': 'NX-OSv Supervisor Module', 'ports': 0}, {'status': 'ok', 'model': 'N7K-F248XP-25', 'type': 'NX-OSv Ethernet Module', 'ports': 48}, {'status': 'ok', 'model': 'N7K-F248XP-25', 'type': 'NX-OSv Ethernet Module', 'ports': 48}, {'status': 'ok', 'model': 'N7K-F248XP-25', 'type': 'NX-OSv Ethernet Module', 'ports': 48}], 'ansible_net_all_ipv6_addresses': [], 'ansible_net_memtotal_mb': 3908, 'ansible_net_filesystems': ['bootflash:'], 'ansible_net_image': 'bootflash:///titanium-d1.7.3.1.D1.0.10.bin', 'os': '7.3(1)D1(1) [build 7.3(1)D1(0.10)]', 'vlan_list': [1]}}}"
   ]
  },
  {
   "cell_type": "code",
   "execution_count": 2,
   "metadata": {},
   "outputs": [
    {
     "output_type": "stream",
     "name": "stdout",
     "text": "{\n    \"output\": {\n        \"ansible_facts\": {\n            \"fan_info\": [\n                {\n                    \"status\": \"Ok\",\n                    \"model\": null,\n                    \"hw_ver\": \"0.0\",\n                    \"name\": \"ChassisFan1\"\n                },\n                {\n                    \"status\": \"None\",\n                    \"model\": null,\n                    \"hw_ver\": \"0.0\",\n                    \"name\": \"ChassisFan2\"\n                },\n                {\n                    \"status\": \"Ok\",\n                    \"model\": \"--\",\n                    \"hw_ver\": \"--\",\n                    \"name\": \"Fan_in_PS1\"\n                },\n                {\n                    \"status\": \"Failure\",\n                    \"model\": \"--\",\n                    \"hw_ver\": \"--\",\n                    \"name\": \"Fan_in_PS2\"\n                }\n            ],\n            \"ansible_net_model\": \"NX-OSv Chassis\",\n            \"ansible_net_interfaces\": {\n                \"Ethernet2/13\": {\n                    \"macaddress\": \"2cc2.604f.feb2\",\n                    \"state\": \"down\",\n                    \"mode\": \"routed\",\n                    \"duplex\": \"auto\",\n                    \"speed\": \"auto-speed\",\n                    \"type\": \"Ethernet\",\n                    \"bandwidth\": 1000000,\n                    \"mtu\": \"1500\"\n                },\n                \"Ethernet2/12\": {\n                    \"macaddress\": \"2cc2.604f.feb2\",\n                    \"state\": \"down\",\n                    \"mode\": \"routed\",\n                    \"duplex\": \"auto\",\n                    \"speed\": \"auto-speed\",\n                    \"type\": \"Ethernet\",\n                    \"bandwidth\": 1000000,\n                    \"mtu\": \"1500\"\n                },\n                \"Ethernet2/11\": {\n                    \"macaddress\": \"2cc2.604f.feb2\",\n                    \"state\": \"down\",\n                    \"mode\": \"routed\",\n                    \"duplex\": \"auto\",\n                    \"speed\": \"auto-speed\",\n                    \"type\": \"Ethernet\",\n                    \"bandwidth\": 1000000,\n                    \"mtu\": \"1500\"\n                },\n                \"Ethernet2/10\": {\n                    \"macaddress\": \"2cc2.604f.feb2\",\n                    \"state\": \"down\",\n                    \"mode\": \"routed\",\n                    \"duplex\": \"auto\",\n                    \"speed\": \"auto-speed\",\n                    \"type\": \"Ethernet\",\n                    \"bandwidth\": 1000000,\n                    \"mtu\": \"1500\"\n                },\n                \"Ethernet2/15\": {\n                    \"macaddress\": \"2cc2.604f.feb2\",\n                    \"state\": \"down\",\n                    \"mode\": \"routed\",\n                    \"duplex\": \"auto\",\n                    \"speed\": \"auto-speed\",\n                    \"type\": \"Ethernet\",\n                    \"bandwidth\": 1000000,\n                    \"mtu\": \"1500\"\n                },\n                \"Ethernet2/14\": {\n                    \"macaddress\": \"2cc2.604f.feb2\",\n                    \"state\": \"down\",\n                    \"mode\": \"routed\",\n                    \"duplex\": \"auto\",\n                    \"speed\": \"auto-speed\",\n                    \"type\": \"Ethernet\",\n                    \"bandwidth\": 1000000,\n                    \"mtu\": \"1500\"\n                },\n                \"Ethernet2/1\": {\n                    \"macaddress\": \"2cc2.604f.feb2\",\n                    \"state\": \"up\",\n                    \"mode\": \"routed\",\n                    \"duplex\": \"full\",\n                    \"speed\": \"1000 Mb/s\",\n                    \"type\": \"Ethernet\",\n                    \"bandwidth\": 1000000,\n                    \"mtu\": \"1500\"\n                }\n            },\n            \"ansible_net_all_ipv4_addresses\": [\n                \"10.0.0.71\"\n            ],\n            \"ansible_net_hostname\": \"nxos-spine1\",\n            \"hostname\": \"nxos-spine1\",\n            \"ansible_net_serialnum\": \"TM6017D760B\",\n            \"interfaces_list\": [\n                \"mgmt0\",\n                \"Ethernet2/1\",\n                \"Ethernet2/2\",\n                \"Ethernet2/3\",\n                \"Ethernet2/4\",\n                \"Ethernet2/5\",\n                \"Ethernet2/6\",\n                \"Ethernet2/7\",\n                \"Ethernet2/8\",\n                \"Ethernet2/9\",\n                \"Ethernet2/10\",\n                \"Ethernet2/11\",\n                \"Ethernet2/12\",\n                \"Ethernet2/13\",\n                \"Ethernet2/14\",\n                \"Ethernet2/15\"\n            ],\n            \"ansible_net_gather_subset\": [\n                \"hardware\",\n                \"default\",\n                \"interfaces\",\n                \"legacy\"\n            ],\n            \"power_supply_info\": [\n                {\n                    \"status\": \"Ok\",\n                    \"model\": \"DS-CAC-845W\",\n                    \"number\": 1\n                },\n                {\n                    \"status\": \"Absent\",\n                    \"model\": \"------------\",\n                    \"number\": 2\n                }\n            ],\n            \"platform\": \"NX-OSv Chassis\",\n            \"ansible_net_version\": \"7.3(1)D1(1) [build 7.3(1)D1(0.10)]\",\n            \"module\": [\n                {\n                    \"status\": \"active *\",\n                    \"model\": \"N7K-SUP1\",\n                    \"type\": \"NX-OSv Supervisor Module\",\n                    \"ports\": 0\n                },\n                {\n                    \"status\": \"ok\",\n                    \"model\": \"N7K-F248XP-25\",\n                    \"type\": \"NX-OSv Ethernet Module\",\n                    \"ports\": 48\n                },\n                {\n                    \"status\": \"ok\",\n                    \"model\": \"N7K-F248XP-25\",\n                    \"type\": \"NX-OSv Ethernet Module\",\n                    \"ports\": 48\n                },\n                {\n                    \"status\": \"ok\",\n                    \"model\": \"N7K-F248XP-25\",\n                    \"type\": \"NX-OSv Ethernet Module\",\n                    \"ports\": 48\n                }\n            ],\n            \"ansible_net_all_ipv6_addresses\": [],\n            \"ansible_net_memtotal_mb\": 3908,\n            \"ansible_net_filesystems\": [\n                \"bootflash:\"\n            ],\n            \"ansible_net_image\": \"bootflash:///titanium-d1.7.3.1.D1.0.10.bin\",\n            \"os\": \"7.3(1)D1(1) [build 7.3(1)D1(0.10)]\",\n            \"vlan_list\": [\n                1\n            ]\n        }\n    }\n}\n"
    }
   ],
   "source": [
    "print(json.dumps(content, indent=4))"
   ]
  },
  {
   "cell_type": "code",
   "execution_count": 5,
   "metadata": {},
   "outputs": [
    {
     "output_type": "execute_result",
     "data": {
      "text/plain": "1"
     },
     "metadata": {},
     "execution_count": 5
    }
   ],
   "source": [
    "len(content)"
   ]
  },
  {
   "cell_type": "code",
   "execution_count": 6,
   "metadata": {},
   "outputs": [
    {
     "output_type": "stream",
     "name": "stdout",
     "text": "dict_keys(['output'])\n"
    }
   ],
   "source": [
    "print(content.keys())"
   ]
  },
  {
   "cell_type": "code",
   "execution_count": 8,
   "metadata": {},
   "outputs": [],
   "source": [
    "output = content['output']"
   ]
  },
  {
   "cell_type": "code",
   "execution_count": 9,
   "metadata": {},
   "outputs": [
    {
     "output_type": "execute_result",
     "data": {
      "text/plain": "dict"
     },
     "metadata": {},
     "execution_count": 9
    }
   ],
   "source": [
    "type(output)"
   ]
  },
  {
   "cell_type": "code",
   "execution_count": 10,
   "metadata": {},
   "outputs": [
    {
     "output_type": "stream",
     "name": "stdout",
     "text": "dict_keys(['ansible_facts'])\n"
    }
   ],
   "source": [
    "print(output.keys())"
   ]
  },
  {
   "cell_type": "code",
   "execution_count": 11,
   "metadata": {},
   "outputs": [
    {
     "output_type": "stream",
     "name": "stdout",
     "text": "{\n    \"ansible_facts\": {\n        \"fan_info\": [\n            {\n                \"status\": \"Ok\",\n                \"model\": null,\n                \"hw_ver\": \"0.0\",\n                \"name\": \"ChassisFan1\"\n            },\n            {\n                \"status\": \"None\",\n                \"model\": null,\n                \"hw_ver\": \"0.0\",\n                \"name\": \"ChassisFan2\"\n            },\n            {\n                \"status\": \"Ok\",\n                \"model\": \"--\",\n                \"hw_ver\": \"--\",\n                \"name\": \"Fan_in_PS1\"\n            },\n            {\n                \"status\": \"Failure\",\n                \"model\": \"--\",\n                \"hw_ver\": \"--\",\n                \"name\": \"Fan_in_PS2\"\n            }\n        ],\n        \"ansible_net_model\": \"NX-OSv Chassis\",\n        \"ansible_net_interfaces\": {\n            \"Ethernet2/13\": {\n                \"macaddress\": \"2cc2.604f.feb2\",\n                \"state\": \"down\",\n                \"mode\": \"routed\",\n                \"duplex\": \"auto\",\n                \"speed\": \"auto-speed\",\n                \"type\": \"Ethernet\",\n                \"bandwidth\": 1000000,\n                \"mtu\": \"1500\"\n            },\n            \"Ethernet2/12\": {\n                \"macaddress\": \"2cc2.604f.feb2\",\n                \"state\": \"down\",\n                \"mode\": \"routed\",\n                \"duplex\": \"auto\",\n                \"speed\": \"auto-speed\",\n                \"type\": \"Ethernet\",\n                \"bandwidth\": 1000000,\n                \"mtu\": \"1500\"\n            },\n            \"Ethernet2/11\": {\n                \"macaddress\": \"2cc2.604f.feb2\",\n                \"state\": \"down\",\n                \"mode\": \"routed\",\n                \"duplex\": \"auto\",\n                \"speed\": \"auto-speed\",\n                \"type\": \"Ethernet\",\n                \"bandwidth\": 1000000,\n                \"mtu\": \"1500\"\n            },\n            \"Ethernet2/10\": {\n                \"macaddress\": \"2cc2.604f.feb2\",\n                \"state\": \"down\",\n                \"mode\": \"routed\",\n                \"duplex\": \"auto\",\n                \"speed\": \"auto-speed\",\n                \"type\": \"Ethernet\",\n                \"bandwidth\": 1000000,\n                \"mtu\": \"1500\"\n            },\n            \"Ethernet2/15\": {\n                \"macaddress\": \"2cc2.604f.feb2\",\n                \"state\": \"down\",\n                \"mode\": \"routed\",\n                \"duplex\": \"auto\",\n                \"speed\": \"auto-speed\",\n                \"type\": \"Ethernet\",\n                \"bandwidth\": 1000000,\n                \"mtu\": \"1500\"\n            },\n            \"Ethernet2/14\": {\n                \"macaddress\": \"2cc2.604f.feb2\",\n                \"state\": \"down\",\n                \"mode\": \"routed\",\n                \"duplex\": \"auto\",\n                \"speed\": \"auto-speed\",\n                \"type\": \"Ethernet\",\n                \"bandwidth\": 1000000,\n                \"mtu\": \"1500\"\n            },\n            \"Ethernet2/1\": {\n                \"macaddress\": \"2cc2.604f.feb2\",\n                \"state\": \"up\",\n                \"mode\": \"routed\",\n                \"duplex\": \"full\",\n                \"speed\": \"1000 Mb/s\",\n                \"type\": \"Ethernet\",\n                \"bandwidth\": 1000000,\n                \"mtu\": \"1500\"\n            }\n        },\n        \"ansible_net_all_ipv4_addresses\": [\n            \"10.0.0.71\"\n        ],\n        \"ansible_net_hostname\": \"nxos-spine1\",\n        \"hostname\": \"nxos-spine1\",\n        \"ansible_net_serialnum\": \"TM6017D760B\",\n        \"interfaces_list\": [\n            \"mgmt0\",\n            \"Ethernet2/1\",\n            \"Ethernet2/2\",\n            \"Ethernet2/3\",\n            \"Ethernet2/4\",\n            \"Ethernet2/5\",\n            \"Ethernet2/6\",\n            \"Ethernet2/7\",\n            \"Ethernet2/8\",\n            \"Ethernet2/9\",\n            \"Ethernet2/10\",\n            \"Ethernet2/11\",\n            \"Ethernet2/12\",\n            \"Ethernet2/13\",\n            \"Ethernet2/14\",\n            \"Ethernet2/15\"\n        ],\n        \"ansible_net_gather_subset\": [\n            \"hardware\",\n            \"default\",\n            \"interfaces\",\n            \"legacy\"\n        ],\n        \"power_supply_info\": [\n            {\n                \"status\": \"Ok\",\n                \"model\": \"DS-CAC-845W\",\n                \"number\": 1\n            },\n            {\n                \"status\": \"Absent\",\n                \"model\": \"------------\",\n                \"number\": 2\n            }\n        ],\n        \"platform\": \"NX-OSv Chassis\",\n        \"ansible_net_version\": \"7.3(1)D1(1) [build 7.3(1)D1(0.10)]\",\n        \"module\": [\n            {\n                \"status\": \"active *\",\n                \"model\": \"N7K-SUP1\",\n                \"type\": \"NX-OSv Supervisor Module\",\n                \"ports\": 0\n            },\n            {\n                \"status\": \"ok\",\n                \"model\": \"N7K-F248XP-25\",\n                \"type\": \"NX-OSv Ethernet Module\",\n                \"ports\": 48\n            },\n            {\n                \"status\": \"ok\",\n                \"model\": \"N7K-F248XP-25\",\n                \"type\": \"NX-OSv Ethernet Module\",\n                \"ports\": 48\n            },\n            {\n                \"status\": \"ok\",\n                \"model\": \"N7K-F248XP-25\",\n                \"type\": \"NX-OSv Ethernet Module\",\n                \"ports\": 48\n            }\n        ],\n        \"ansible_net_all_ipv6_addresses\": [],\n        \"ansible_net_memtotal_mb\": 3908,\n        \"ansible_net_filesystems\": [\n            \"bootflash:\"\n        ],\n        \"ansible_net_image\": \"bootflash:///titanium-d1.7.3.1.D1.0.10.bin\",\n        \"os\": \"7.3(1)D1(1) [build 7.3(1)D1(0.10)]\",\n        \"vlan_list\": [\n            1\n        ]\n    }\n}\n"
    }
   ],
   "source": [
    "print(json.dumps(output, indent=4))"
   ]
  },
  {
   "cell_type": "code",
   "execution_count": 17,
   "metadata": {},
   "outputs": [
    {
     "output_type": "stream",
     "name": "stdout",
     "text": "{\n    \"ansible_facts\": {\n        \"fan_info\": [\n            {\n                \"status\": \"Ok\",\n                \"model\": null,\n                \"hw_ver\": \"0.0\",\n                \"name\": \"ChassisFan1\"\n            },\n            {\n                \"status\": \"None\",\n                \"model\": null,\n                \"hw_ver\": \"0.0\",\n                \"name\": \"ChassisFan2\"\n            },\n            {\n                \"status\": \"Ok\",\n                \"model\": \"--\",\n                \"hw_ver\": \"--\",\n                \"name\": \"Fan_in_PS1\"\n            },\n            {\n                \"status\": \"Failure\",\n                \"model\": \"--\",\n                \"hw_ver\": \"--\",\n                \"name\": \"Fan_in_PS2\"\n            }\n        ],\n        \"ansible_net_model\": \"NX-OSv Chassis\",\n        \"ansible_net_interfaces\": {\n            \"Ethernet2/13\": {\n                \"macaddress\": \"2cc2.604f.feb2\",\n                \"state\": \"down\",\n                \"mode\": \"routed\",\n                \"duplex\": \"auto\",\n                \"speed\": \"auto-speed\",\n                \"type\": \"Ethernet\",\n                \"bandwidth\": 1000000,\n                \"mtu\": \"1500\"\n            },\n            \"Ethernet2/12\": {\n                \"macaddress\": \"2cc2.604f.feb2\",\n                \"state\": \"down\",\n                \"mode\": \"routed\",\n                \"duplex\": \"auto\",\n                \"speed\": \"auto-speed\",\n                \"type\": \"Ethernet\",\n                \"bandwidth\": 1000000,\n                \"mtu\": \"1500\"\n            },\n            \"Ethernet2/11\": {\n                \"macaddress\": \"2cc2.604f.feb2\",\n                \"state\": \"down\",\n                \"mode\": \"routed\",\n                \"duplex\": \"auto\",\n                \"speed\": \"auto-speed\",\n                \"type\": \"Ethernet\",\n                \"bandwidth\": 1000000,\n                \"mtu\": \"1500\"\n            },\n            \"Ethernet2/10\": {\n                \"macaddress\": \"2cc2.604f.feb2\",\n                \"state\": \"down\",\n                \"mode\": \"routed\",\n                \"duplex\": \"auto\",\n                \"speed\": \"auto-speed\",\n                \"type\": \"Ethernet\",\n                \"bandwidth\": 1000000,\n                \"mtu\": \"1500\"\n            },\n            \"Ethernet2/15\": {\n                \"macaddress\": \"2cc2.604f.feb2\",\n                \"state\": \"down\",\n                \"mode\": \"routed\",\n                \"duplex\": \"auto\",\n                \"speed\": \"auto-speed\",\n                \"type\": \"Ethernet\",\n                \"bandwidth\": 1000000,\n                \"mtu\": \"1500\"\n            },\n            \"Ethernet2/14\": {\n                \"macaddress\": \"2cc2.604f.feb2\",\n                \"state\": \"down\",\n                \"mode\": \"routed\",\n                \"duplex\": \"auto\",\n                \"speed\": \"auto-speed\",\n                \"type\": \"Ethernet\",\n                \"bandwidth\": 1000000,\n                \"mtu\": \"1500\"\n            },\n            \"Ethernet2/1\": {\n                \"macaddress\": \"2cc2.604f.feb2\",\n                \"state\": \"up\",\n                \"mode\": \"routed\",\n                \"duplex\": \"full\",\n                \"speed\": \"1000 Mb/s\",\n                \"type\": \"Ethernet\",\n                \"bandwidth\": 1000000,\n                \"mtu\": \"1500\"\n            }\n        },\n        \"ansible_net_all_ipv4_addresses\": [\n            \"10.0.0.71\"\n        ],\n        \"ansible_net_hostname\": \"nxos-spine1\",\n        \"hostname\": \"nxos-spine1\",\n        \"ansible_net_serialnum\": \"TM6017D760B\",\n        \"interfaces_list\": [\n            \"mgmt0\",\n            \"Ethernet2/1\",\n            \"Ethernet2/2\",\n            \"Ethernet2/3\",\n            \"Ethernet2/4\",\n            \"Ethernet2/5\",\n            \"Ethernet2/6\",\n            \"Ethernet2/7\",\n            \"Ethernet2/8\",\n            \"Ethernet2/9\",\n            \"Ethernet2/10\",\n            \"Ethernet2/11\",\n            \"Ethernet2/12\",\n            \"Ethernet2/13\",\n            \"Ethernet2/14\",\n            \"Ethernet2/15\"\n        ],\n        \"ansible_net_gather_subset\": [\n            \"hardware\",\n            \"default\",\n            \"interfaces\",\n            \"legacy\"\n        ],\n        \"power_supply_info\": [\n            {\n                \"status\": \"Ok\",\n                \"model\": \"DS-CAC-845W\",\n                \"number\": 1\n            },\n            {\n                \"status\": \"Absent\",\n                \"model\": \"------------\",\n                \"number\": 2\n            }\n        ],\n        \"platform\": \"NX-OSv Chassis\",\n        \"ansible_net_version\": \"7.3(1)D1(1) [build 7.3(1)D1(0.10)]\",\n        \"module\": [\n            {\n                \"status\": \"active *\",\n                \"model\": \"N7K-SUP1\",\n                \"type\": \"NX-OSv Supervisor Module\",\n                \"ports\": 0\n            },\n            {\n                \"status\": \"ok\",\n                \"model\": \"N7K-F248XP-25\",\n                \"type\": \"NX-OSv Ethernet Module\",\n                \"ports\": 48\n            },\n            {\n                \"status\": \"ok\",\n                \"model\": \"N7K-F248XP-25\",\n                \"type\": \"NX-OSv Ethernet Module\",\n                \"ports\": 48\n            },\n            {\n                \"status\": \"ok\",\n                \"model\": \"N7K-F248XP-25\",\n                \"type\": \"NX-OSv Ethernet Module\",\n                \"ports\": 48\n            }\n        ],\n        \"ansible_net_all_ipv6_addresses\": [],\n        \"ansible_net_memtotal_mb\": 3908,\n        \"ansible_net_filesystems\": [\n            \"bootflash:\"\n        ],\n        \"ansible_net_image\": \"bootflash:///titanium-d1.7.3.1.D1.0.10.bin\",\n        \"os\": \"7.3(1)D1(1) [build 7.3(1)D1(0.10)]\",\n        \"vlan_list\": [\n            1\n        ]\n    }\n}\n"
    }
   ],
   "source": [
    "print(json.dumps(output, indent=4))"
   ]
  },
  {
   "cell_type": "code",
   "execution_count": 18,
   "metadata": {},
   "outputs": [
    {
     "output_type": "stream",
     "name": "stdout",
     "text": "{\n    \"Ethernet2/13\": {\n        \"macaddress\": \"2cc2.604f.feb2\",\n        \"state\": \"down\",\n        \"mode\": \"routed\",\n        \"duplex\": \"auto\",\n        \"speed\": \"auto-speed\",\n        \"type\": \"Ethernet\",\n        \"bandwidth\": 1000000,\n        \"mtu\": \"1500\"\n    },\n    \"Ethernet2/12\": {\n        \"macaddress\": \"2cc2.604f.feb2\",\n        \"state\": \"down\",\n        \"mode\": \"routed\",\n        \"duplex\": \"auto\",\n        \"speed\": \"auto-speed\",\n        \"type\": \"Ethernet\",\n        \"bandwidth\": 1000000,\n        \"mtu\": \"1500\"\n    },\n    \"Ethernet2/11\": {\n        \"macaddress\": \"2cc2.604f.feb2\",\n        \"state\": \"down\",\n        \"mode\": \"routed\",\n        \"duplex\": \"auto\",\n        \"speed\": \"auto-speed\",\n        \"type\": \"Ethernet\",\n        \"bandwidth\": 1000000,\n        \"mtu\": \"1500\"\n    },\n    \"Ethernet2/10\": {\n        \"macaddress\": \"2cc2.604f.feb2\",\n        \"state\": \"down\",\n        \"mode\": \"routed\",\n        \"duplex\": \"auto\",\n        \"speed\": \"auto-speed\",\n        \"type\": \"Ethernet\",\n        \"bandwidth\": 1000000,\n        \"mtu\": \"1500\"\n    },\n    \"Ethernet2/15\": {\n        \"macaddress\": \"2cc2.604f.feb2\",\n        \"state\": \"down\",\n        \"mode\": \"routed\",\n        \"duplex\": \"auto\",\n        \"speed\": \"auto-speed\",\n        \"type\": \"Ethernet\",\n        \"bandwidth\": 1000000,\n        \"mtu\": \"1500\"\n    },\n    \"Ethernet2/14\": {\n        \"macaddress\": \"2cc2.604f.feb2\",\n        \"state\": \"down\",\n        \"mode\": \"routed\",\n        \"duplex\": \"auto\",\n        \"speed\": \"auto-speed\",\n        \"type\": \"Ethernet\",\n        \"bandwidth\": 1000000,\n        \"mtu\": \"1500\"\n    },\n    \"Ethernet2/1\": {\n        \"macaddress\": \"2cc2.604f.feb2\",\n        \"state\": \"up\",\n        \"mode\": \"routed\",\n        \"duplex\": \"full\",\n        \"speed\": \"1000 Mb/s\",\n        \"type\": \"Ethernet\",\n        \"bandwidth\": 1000000,\n        \"mtu\": \"1500\"\n    }\n}\n"
    }
   ],
   "source": [
    "print(json.dumps(output['ansible_facts']['ansible_net_interfaces'], indent=4))"
   ]
  },
  {
   "cell_type": "code",
   "execution_count": 23,
   "metadata": {},
   "outputs": [],
   "source": [
    "interfaces = output['ansible_facts']['ansible_net_interfaces']"
   ]
  },
  {
   "cell_type": "code",
   "execution_count": 24,
   "metadata": {},
   "outputs": [
    {
     "output_type": "stream",
     "name": "stdout",
     "text": "dict_keys(['Ethernet2/13', 'Ethernet2/12', 'Ethernet2/11', 'Ethernet2/10', 'Ethernet2/15', 'Ethernet2/14', 'Ethernet2/1'])\n"
    }
   ],
   "source": [
    "print(interfaces.keys())"
   ]
  },
  {
   "cell_type": "code",
   "execution_count": 25,
   "metadata": {},
   "outputs": [],
   "source": [
    "mac = output['ansible_facts']['ansible_net_interfaces']['Ethernet2/11']['macaddress']"
   ]
  },
  {
   "cell_type": "code",
   "execution_count": 26,
   "metadata": {},
   "outputs": [
    {
     "output_type": "stream",
     "name": "stdout",
     "text": "2cc2.604f.feb2\n"
    }
   ],
   "source": [
    "print(mac)"
   ]
  },
  {
   "cell_type": "code",
   "execution_count": null,
   "metadata": {},
   "outputs": [],
   "source": []
  }
 ],
 "metadata": {
  "language_info": {
   "name": "python",
   "codemirror_mode": {
    "name": "ipython",
    "version": 3
   },
   "version": "3.7.7-final"
  },
  "orig_nbformat": 2,
  "file_extension": ".py",
  "mimetype": "text/x-python",
  "name": "python",
  "npconvert_exporter": "python",
  "pygments_lexer": "ipython3",
  "version": 3,
  "kernelspec": {
   "name": "python37664bit151b5df8c92d49269e536cb44ce7033b",
   "display_name": "Python 3.7.6 64-bit"
  }
 },
 "nbformat": 4,
 "nbformat_minor": 2
}